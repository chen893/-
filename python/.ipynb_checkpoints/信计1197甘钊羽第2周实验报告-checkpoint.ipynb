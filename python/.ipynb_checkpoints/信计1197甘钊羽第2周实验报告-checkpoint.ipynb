{
 "cells": [
  {
   "cell_type": "markdown",
   "metadata": {},
   "source": [
    "# 《Python基础》第2周实验报告"
   ]
  },
  {
   "cell_type": "markdown",
   "metadata": {},
   "source": [
    "<font face='kaiti' size=5 style='line-height:1.5'>\n",
    "    \n",
    "实验名称：<u> Python控制结构、列表 </u>实验日期：<u>2021.3.20&emsp;</u><br>\n",
    "班级：<u>信计1197&emsp;</u>姓名：<u>陈双龙&emsp;</u>学号：<u>201911921704&emsp;</u>指导老师：<u>李志&emsp;</u>"
   ]
  },
  {
   "cell_type": "markdown",
   "metadata": {},
   "source": [
    "<font face='kaiti' size=5 style='line-height:1.5'>\n",
    "    \n",
    "一、实验目的：\n",
    "    \n",
    "- 掌握分支结构和循环结构；\n",
    "- 掌握列表的特点和用法；\n",
    "- 掌握列表推导式的使用；\n",
    "- 能应用Python控制结构解决一些简单的实际问题。\n",
    "- 能应用列表解决一些简单的实际问题。"
   ]
  },
  {
   "cell_type": "markdown",
   "metadata": {},
   "source": [
    "<font face='kaiti' size=5 style='line-height:1.5'>\n",
    "二、实验内容（在各题后书写程序和运行结果）"
   ]
  },
  {
   "cell_type": "markdown",
   "metadata": {},
   "source": [
    "<font face='kaiti' size=5 style='line-height:1.5'>\n",
    "    \n",
    "1.用不同方法计算下列级数的和：(1)循环结构; (2)列表推导式和内置函数sum()。\n",
    "    \n",
    "$(1) \\sum_{n=1}^{100}\\frac1{4^n}$ &emsp; &emsp; &emsp; &emsp; $(2) \\sum_{n=1}^{100}(-1)^{n+1}\\frac1n$"
   ]
  },
  {
   "cell_type": "code",
   "execution_count": 1,
   "metadata": {},
   "outputs": [
    {
     "name": "stdout",
     "output_type": "stream",
     "text": [
      "0.3333333333333333\n"
     ]
    }
   ],
   "source": [
    "#第一题的第一种方法\n",
    "s=0\n",
    "for x in range(1,101):\n",
    "    s+=1/(4**x)\n",
    "print(s)"
   ]
  },
  {
   "cell_type": "code",
   "execution_count": 2,
   "metadata": {},
   "outputs": [
    {
     "name": "stdout",
     "output_type": "stream",
     "text": [
      "0.3333333333333333\n"
     ]
    }
   ],
   "source": [
    "#第一题的第二种方法\n",
    "aList=[1/(4**x) for x in range(1,101)]\n",
    "print(sum(aList))"
   ]
  },
  {
   "cell_type": "code",
   "execution_count": 1,
   "metadata": {},
   "outputs": [
    {
     "name": "stdout",
     "output_type": "stream",
     "text": [
      "0.688172179310195\n"
     ]
    }
   ],
   "source": [
    "#第二题的第一种方法\n",
    "s=0\n",
    "for x in range(1,101):\n",
    "    s+=(-1)**(x+1)*(1/x)\n",
    "print(s)"
   ]
  },
  {
   "cell_type": "code",
   "execution_count": 3,
   "metadata": {},
   "outputs": [
    {
     "name": "stdout",
     "output_type": "stream",
     "text": [
      "0.688172179310195\n"
     ]
    }
   ],
   "source": [
    "#第二题的第二种方法\n",
    "aList=[(-1)**(x+1)*(1/x) for x in range(1,101)]\n",
    "print(sum(aList))"
   ]
  },
  {
   "cell_type": "markdown",
   "metadata": {},
   "source": [
    "<font face='kaiti' size=5 style='line-height:1.5'>\n",
    "\n",
    "2. 回文数是指一个数字从左边读和从右边读的结果是一模一样的,比如12321。从键盘任意输入一个正整数，用尽量简单的方法判断其是否为回文数。"
   ]
  },
  {
   "cell_type": "code",
   "execution_count": 1,
   "metadata": {},
   "outputs": [
    {
     "name": "stdout",
     "output_type": "stream",
     "text": [
      "请输入一个数12\n",
      "这个数不是回文数\n"
     ]
    }
   ],
   "source": [
    "n=input(\"请输入一个数\")\n",
    "aList=list(n)\n",
    "if aList==aList[::-1]:\n",
    "    print(\"这个数是回文数\")\n",
    "else:\n",
    "    print(\"这个数不是回文数\")"
   ]
  },
  {
   "cell_type": "markdown",
   "metadata": {},
   "source": [
    "<font face='kaiti' size=5 style='line-height:1.5'>\n",
    "    \n",
    "3. 编写程序，输出100-999之间的所有水仙花数(水仙花数是指一个三位数，其各位数字的立方和等于该数本身）。"
   ]
  },
  {
   "cell_type": "code",
   "execution_count": 7,
   "metadata": {},
   "outputs": [
    {
     "name": "stdout",
     "output_type": "stream",
     "text": [
      "153 370 371 407 "
     ]
    }
   ],
   "source": [
    "for x in range(100,1000):\n",
    "    n=str(x)\n",
    "    aList=list(n)\n",
    "    if x==int(aList[0])**3+int(aList[1])**3+int(aList[2])**3 :\n",
    "        print(x,end=\" \")"
   ]
  },
  {
   "cell_type": "markdown",
   "metadata": {},
   "source": [
    "<font face='kaiti' size=5 style='line-height:1.5'>\n",
    "\n",
    "4. 若一个数等于它的各个真因子之和，则称该数为完数，如6=1+2+3，所以6是完数。编写程序求[1,500]之间的全部完数。"
   ]
  },
  {
   "cell_type": "code",
   "execution_count": 4,
   "metadata": {},
   "outputs": [
    {
     "name": "stdout",
     "output_type": "stream",
     "text": [
      "6 28 496 "
     ]
    }
   ],
   "source": [
    "#定义一个函数判断是不是完数\n",
    "def pd(a):\n",
    "    aList=[]\n",
    "    #找出因子\n",
    "    for x in range(1,a//2+1):\n",
    "        if a%x==0:\n",
    "            aList.append(x)\n",
    "    s=0\n",
    "    #因子相加\n",
    "    for x in range(0,len(aList)):\n",
    "        s+=aList[x]\n",
    "    #比较\n",
    "    if s==a:\n",
    "        return True\n",
    "    else:\n",
    "        return False\n",
    "    \n",
    "#遍历所有数\n",
    "for x in range(1,501):\n",
    "    if pd(x):\n",
    "        print(x,end=\" \")"
   ]
  },
  {
   "cell_type": "markdown",
   "metadata": {},
   "source": [
    "<font face='kaiti' size=5 style='line-height:1.5'>\n",
    "\n",
    "5. 选做题：Python的内置函数和列表的方法中都没有提供求中位数的函数。编写程序，对任意输入的数值列表，输出这个序列的中位数。并自己给定一个至少含有5个数的列表，测试你的程序。"
   ]
  },
  {
   "cell_type": "code",
   "execution_count": 6,
   "metadata": {},
   "outputs": [
    {
     "name": "stdin",
     "output_type": "stream",
     "text": [
      "输入整数列表，以逗号为间隔： 1,2,3,4,5,6\n"
     ]
    },
    {
     "name": "stdout",
     "output_type": "stream",
     "text": [
      "3.5\n"
     ]
    }
   ],
   "source": [
    "a=input(\"输入整数列表，以逗号为间隔：\").split(',')\n",
    "a=[int(a[x]) for x in range(0,len(a))]\n",
    "a.sort()\n",
    "l=len(a)\n",
    "if l==1:\n",
    "    n=a[0]\n",
    "elif l==2:\n",
    "    n=(a[0]+a[1])/2\n",
    "else:\n",
    "    if l%2==0:\n",
    "        n=(a[l//2-1]+a[l//2])/2\n",
    "    else:\n",
    "        n=a[l//2]\n",
    "print(n)"
   ]
  },
  {
   "cell_type": "markdown",
   "metadata": {},
   "source": [
    "<font face='kaiti' size=5 style='line-height:1.5'>\n",
    "\n",
    "6. 选做题：输入三边长，判断是否能构成一个三角形，若能，则利用海伦公式计算其面积. 用`3.0,7.8,7.2`和`3.5,8.3,4.2`这2组数测试你的程序。"
   ]
  },
  {
   "cell_type": "code",
   "execution_count": 8,
   "metadata": {},
   "outputs": [
    {
     "name": "stdin",
     "output_type": "stream",
     "text": [
      "输入三条边： 3.0,7.8,7.2\n"
     ]
    },
    {
     "name": "stdout",
     "output_type": "stream",
     "text": [
      "这三条边可以构成三角形，且三角形面积为 10.8\n"
     ]
    }
   ],
   "source": [
    "a=input(\"输入三条边：\").split(',')\n",
    "a=[eval(a[x]) for x in range(0,3)]\n",
    "a.sort()\n",
    "if (a[0]+a[1]>a[2])and(a[1]+a[2]>a[0]and a[1]+a[2]>a[0]):\n",
    "    p=sum(a)/2\n",
    "    s=(p*(p-a[0])*(p-a[1])*(p-a[2]))**0.5\n",
    "    print(\"这三条边可以构成三角形，且三角形面积为\",s)\n",
    "else:\n",
    "    print(\"这三条边不可以构成三角形\")"
   ]
  },
  {
   "cell_type": "code",
   "execution_count": 12,
   "metadata": {
    "scrolled": true
   },
   "outputs": [
    {
     "name": "stdout",
     "output_type": "stream",
     "text": [
      "输入三条边：3.5,8.3,4.2\n",
      "这三条边不可以构成三角形\n"
     ]
    }
   ],
   "source": [
    "a=input(\"输入三条边：\").split(',')\n",
    "a=[eval(a[x]) for x in range(0,3)]\n",
    "a.sort()\n",
    "if (a[0]+a[1]>a[2])and(a[1]+a[2]>a[0]and a[1]+a[2]>a[0]):\n",
    "    p=sum(a)/2\n",
    "    s=(p*(p-a[0])*(p-a[1])*(p-a[2]))**0.5\n",
    "    print(\"这三条边可以构成三角形，且三角形面积为\",s)\n",
    "else:\n",
    "    print(\"这三条边不可以构成三角形\")"
   ]
  },
  {
   "cell_type": "code",
   "execution_count": null,
   "metadata": {},
   "outputs": [],
   "source": []
  }
 ],
 "metadata": {
  "kernelspec": {
   "display_name": "Python 3",
   "language": "python",
   "name": "python3"
  },
  "language_info": {
   "codemirror_mode": {
    "name": "ipython",
    "version": 3
   },
   "file_extension": ".py",
   "mimetype": "text/x-python",
   "name": "python",
   "nbconvert_exporter": "python",
   "pygments_lexer": "ipython3",
   "version": "3.8.2"
  },
  "latex_envs": {
   "LaTeX_envs_menu_present": true,
   "autoclose": false,
   "autocomplete": true,
   "bibliofile": "biblio.bib",
   "cite_by": "apalike",
   "current_citInitial": 1,
   "eqLabelWithNumbers": true,
   "eqNumInitial": 1,
   "hotkeys": {
    "equation": "Ctrl-E",
    "itemize": "Ctrl-I"
   },
   "labels_anchors": false,
   "latex_user_defs": false,
   "report_style_numbering": false,
   "user_envs_cfg": false
  },
  "toc": {
   "base_numbering": 1,
   "nav_menu": {},
   "number_sections": false,
   "sideBar": true,
   "skip_h1_title": false,
   "title_cell": "Table of Contents",
   "title_sidebar": "Contents",
   "toc_cell": false,
   "toc_position": {},
   "toc_section_display": true,
   "toc_window_display": false
  },
  "varInspector": {
   "cols": {
    "lenName": 16,
    "lenType": 16,
    "lenVar": 40
   },
   "kernels_config": {
    "python": {
     "delete_cmd_postfix": "",
     "delete_cmd_prefix": "del ",
     "library": "var_list.py",
     "varRefreshCmd": "print(var_dic_list())"
    },
    "r": {
     "delete_cmd_postfix": ") ",
     "delete_cmd_prefix": "rm(",
     "library": "var_list.r",
     "varRefreshCmd": "cat(var_dic_list()) "
    }
   },
   "types_to_exclude": [
    "module",
    "function",
    "builtin_function_or_method",
    "instance",
    "_Feature"
   ],
   "window_display": false
  }
 },
 "nbformat": 4,
 "nbformat_minor": 4
}
